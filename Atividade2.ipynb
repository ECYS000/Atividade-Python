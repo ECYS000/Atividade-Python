{
  "nbformat": 4,
  "nbformat_minor": 0,
  "metadata": {
    "colab": {
      "provenance": [],
      "authorship_tag": "ABX9TyP5ViCdCUZdfnGfXquzeh18",
      "include_colab_link": true
    },
    "kernelspec": {
      "name": "python3",
      "display_name": "Python 3"
    },
    "language_info": {
      "name": "python"
    }
  },
  "cells": [
    {
      "cell_type": "markdown",
      "metadata": {
        "id": "view-in-github",
        "colab_type": "text"
      },
      "source": [
        "<a href=\"https://colab.research.google.com/github/ECYS000/Atividade-Python/blob/main/Atividade2.ipynb\" target=\"_parent\"><img src=\"https://colab.research.google.com/assets/colab-badge.svg\" alt=\"Open In Colab\"/></a>"
      ]
    },
    {
      "cell_type": "code",
      "execution_count": null,
      "metadata": {
        "colab": {
          "base_uri": "https://localhost:8080/"
        },
        "id": "0BhF2XDycX25",
        "outputId": "ddcb44c5-3a9c-4a5a-f2d3-caac3bd6c5b0"
      },
      "outputs": [
        {
          "output_type": "execute_result",
          "data": {
            "text/plain": [
              "[[4, 9, 1], [4, 10, 8], [4, 8, 3]]"
            ]
          },
          "metadata": {},
          "execution_count": 2
        }
      ],
      "source": [
        "#Atvidade 2\n",
        "\n",
        "# 1 - Escreva um programa que imprima uma matriz 3x3 preenchida com valores inteiros\n",
        "# aleatórios.\n",
        "\n",
        "import random\n",
        "\n",
        "random.randint(1,10)\n",
        "def criar_matriz(linhas,colunas):\n",
        "    matriz = []\n",
        "    for _ in range(linhas):\n",
        "      lista_linha = []\n",
        "      for _ in range(colunas):\n",
        "        lista_linha.append(random.randint(1,10))\n",
        "      matriz.append(lista_linha)\n",
        "    return matriz\n",
        "criar_matriz(3,3)"
      ]
    },
    {
      "cell_type": "code",
      "source": [
        "# 2 - Crie uma função que receba uma matriz como entrada e retorne a soma de todos os\n",
        "# elementos da matriz.\n",
        "meu_matriz = [1,2,3], [10,50,30],[99,88,55]\n",
        "\n",
        "def somar_matriz(matriz):\n",
        "  soma = 0\n",
        "  for linha in matriz:\n",
        "    for elemento in linha:\n",
        "      soma += elemento\n",
        "  return soma\n",
        "\n",
        "resultado = somar_matriz(meu_matriz)\n",
        "print(resultado)"
      ],
      "metadata": {
        "colab": {
          "base_uri": "https://localhost:8080/"
        },
        "id": "uYv8kkGacmIj",
        "outputId": "e630177d-13ff-483b-baf5-60994645d928"
      },
      "execution_count": null,
      "outputs": [
        {
          "output_type": "stream",
          "name": "stdout",
          "text": [
            "338\n"
          ]
        }
      ]
    },
    {
      "cell_type": "code",
      "source": [
        "# 3 - Escreva um programa que verifique se uma matriz 3x3 é uma matriz identidade\n",
        "\n",
        "# nao entendi que é para fazer..."
      ],
      "metadata": {
        "id": "lqWxdCySn9t9"
      },
      "execution_count": null,
      "outputs": []
    },
    {
      "cell_type": "code",
      "source": [
        "# 4 - Implemente uma função que receba duas matrizes como entrada e retorne a matriz\n",
        "# resultante da multiplicação das duas.\n",
        "\n",
        "matriz1 = [[10, 10, 10], [30, 40, 50], [1, 2, 3]]\n",
        "matriz2 = [[20, 20, 20], [30, 40, 50], [6, 5, 4]]\n",
        "\n",
        "def multiplicar(matriz1, matriz2):\n",
        "    linhas_matriz1 = len(matriz1)\n",
        "    colunas_matriz1 = len(matriz1[0])\n",
        "    linhas_matriz2 = len(matriz2)\n",
        "    colunas_matriz2 = len(matriz2[0])\n",
        "\n",
        "    matriz = [[0 for b in range(colunas_matriz2)] for a in range(linhas_matriz1)]\n",
        "\n",
        "    for a in range(linhas_matriz1):\n",
        "        for b in range(colunas_matriz2):\n",
        "            for c in range(colunas_matriz1):\n",
        "                matriz[a][b] += matriz1[a][c] * matriz2[c][b]\n",
        "    return matriz\n",
        "\n",
        "resultado = multiplicar(matriz1, matriz2)\n",
        "print(resultado)"
      ],
      "metadata": {
        "id": "LzJJPRpgpGVf",
        "colab": {
          "base_uri": "https://localhost:8080/"
        },
        "outputId": "6dd15b2b-265b-4778-cb29-ddc847731c42"
      },
      "execution_count": 15,
      "outputs": [
        {
          "output_type": "stream",
          "name": "stdout",
          "text": [
            "[[560, 650, 740], [2100, 2450, 2800], [98, 115, 132]]\n"
          ]
        }
      ]
    }
  ]
}