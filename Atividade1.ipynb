{
  "nbformat": 4,
  "nbformat_minor": 0,
  "metadata": {
    "colab": {
      "provenance": [],
      "authorship_tag": "ABX9TyNB/pVoAwBlSJCT9Adja7JR",
      "include_colab_link": true
    },
    "kernelspec": {
      "name": "python3",
      "display_name": "Python 3"
    },
    "language_info": {
      "name": "python"
    }
  },
  "cells": [
    {
      "cell_type": "markdown",
      "metadata": {
        "id": "view-in-github",
        "colab_type": "text"
      },
      "source": [
        "<a href=\"https://colab.research.google.com/github/ECYS000/Atividade-Python/blob/main/Atividade1.ipynb\" target=\"_parent\"><img src=\"https://colab.research.google.com/assets/colab-badge.svg\" alt=\"Open In Colab\"/></a>"
      ]
    },
    {
      "cell_type": "code",
      "execution_count": 38,
      "metadata": {
        "colab": {
          "base_uri": "https://localhost:8080/"
        },
        "id": "rMPIx4x4y3bB",
        "outputId": "4b0b48da-8ec1-4396-b39e-529c0bac890f"
      },
      "outputs": [
        {
          "output_type": "stream",
          "name": "stdout",
          "text": [
            "Números pares: [2, 4, 6, 8, 10, 12, 14, 16, 18]\n"
          ]
        }
      ],
      "source": [
        "#Exercício 1:\n",
        "#Escreva um programa em Python que cria uma lista de números inteiros e exiba todos os\n",
        "#números pares dessa lista\n",
        "\n",
        "numerosPares = []\n",
        "\n",
        "for num in range(1, 20):\n",
        "  if num % 2 == 0:\n",
        "        numerosPares.append(num)\n",
        "print(\"Números pares:\", numerosPares)\n"
      ]
    },
    {
      "cell_type": "code",
      "source": [
        "#Exercício 2:\n",
        "#Escreva um programa em Python que solicita ao usuário que digite várias palavras e\n",
        "#armazene-as em uma lista. Em seguida, exiba a lista ordenada em ordem alfabética.\n",
        "\n",
        "palavras = input(\"escreva qualquer palavras com espaço por cada palavras: \").split()\n",
        "\n",
        "palavras.sort()\n",
        "\n",
        "print(\"em ordem palavras que vc digitou:\",palavras)"
      ],
      "metadata": {
        "colab": {
          "base_uri": "https://localhost:8080/"
        },
        "id": "jYtqovXP2cmI",
        "outputId": "d597f972-93b5-45d5-a532-846d140e3005"
      },
      "execution_count": 39,
      "outputs": [
        {
          "output_type": "stream",
          "name": "stdout",
          "text": [
            "escreva qualquer palavras com espaço por cada palavras: aaa ccc ttt zzz eee ddd\n",
            "em ordem palavras que vc digitou: ['aaa', 'ccc', 'ddd', 'eee', 'ttt', 'zzz']\n"
          ]
        }
      ]
    },
    {
      "cell_type": "code",
      "source": [
        "#Exercício 3:\n",
        "#Escreva um programa em Python que cria uma lista de números inteiros e calcula a soma\n",
        "#de todos os elementos dessa lista.\n",
        "\n",
        "listaNumeros = [5, 7, 8, 10, 200, 20, 30]\n",
        "\n",
        "soma = 0\n",
        "\n",
        "for numero in listaNumeros:\n",
        "\n",
        "  soma += numero\n",
        "print(\"Soma numeros lista:\",soma)"
      ],
      "metadata": {
        "colab": {
          "base_uri": "https://localhost:8080/"
        },
        "id": "0E9cToTZ4KEp",
        "outputId": "16605967-b560-4677-b129-d441ad1032bc"
      },
      "execution_count": 40,
      "outputs": [
        {
          "output_type": "stream",
          "name": "stdout",
          "text": [
            "Soma numeros lista: 280\n"
          ]
        }
      ]
    },
    {
      "cell_type": "code",
      "source": [
        "#Exercício 4:\n",
        "#Escreva um programa em Python que cria uma lista de nomes de cores (\"vermelho\",\n",
        "#\"verde\", \"azul\", etc.) e solicita ao usuário que digite um nome de cor. O programa deve\n",
        "#verificar se o nome de cor digitado está presente na lista e exibir uma mensagem adequada.\n",
        "\n",
        "listaCores = ['Azul', 'Vermelho', 'Preto', 'Amarelo', 'Verde']\n",
        "\n",
        "digitarCor = input(\"Digite um nome cor que vc deseja: \")\n",
        "\n",
        "if digitarCor in listaCores:\n",
        "  print(f'Você digitou o nome cor é {digitarCor} tá disponivel em lista de Cores nossa sistema')\n",
        "else:\n",
        "  print(f'Você digitou o nome cor é {digitarCor} não tá disponivel em lista de Cores nossa sistema')"
      ],
      "metadata": {
        "colab": {
          "base_uri": "https://localhost:8080/"
        },
        "id": "1LroORJN50hv",
        "outputId": "9b2456b9-7023-4256-b782-6649db2e2370"
      },
      "execution_count": 41,
      "outputs": [
        {
          "output_type": "stream",
          "name": "stdout",
          "text": [
            "Digite um nome cor que vc deseja: Vermelho\n",
            "Você digitou o nome cor é Vermelho tá disponivel em lista de Cores nossa sistema\n"
          ]
        }
      ]
    },
    {
      "cell_type": "code",
      "source": [
        "#Exercício 5:\n",
        "#Escreva uma função em Python chamada \"encontrar_maior\" que recebe uma lista de\n",
        "#números inteiros como parâmetro e retorna o maior número da lista.\n",
        "\n",
        "def encontrar_maior(lista):\n",
        "\n",
        "    maior = max(lista)\n",
        "\n",
        "    return maior\n",
        "\n",
        "listaNumero = [1,2,8,702,500,22,44,555, 395]\n",
        "\n",
        "maior_numero = encontrar_maior(listaNumero)\n",
        "\n",
        "print(\"Maior numero na lista é:\", maior_numero)\n"
      ],
      "metadata": {
        "colab": {
          "base_uri": "https://localhost:8080/"
        },
        "id": "_eKnhFyZ8T0i",
        "outputId": "43831dba-0895-4464-bcf8-ec9e80f13e50"
      },
      "execution_count": 42,
      "outputs": [
        {
          "output_type": "stream",
          "name": "stdout",
          "text": [
            "Maior numero na lista é: 702\n"
          ]
        }
      ]
    },
    {
      "cell_type": "code",
      "source": [
        "#Exercício 6:\n",
        "#Escreva um programa em Python que cria uma lista de números inteiros e remove todos os\n",
        "#números repetidos da lista, mantendo apenas uma ocorrência de cada número.\n",
        "\n",
        "listaNumeros = [5, 7, 8, 10, 200, 20, 30, 5]\n",
        "\n",
        "numeroSemRepetir = list(set(listaNumeros))\n",
        "\n",
        "print(numeroSemRepetir)"
      ],
      "metadata": {
        "colab": {
          "base_uri": "https://localhost:8080/"
        },
        "id": "_RHuaGZi97_j",
        "outputId": "d53d4d5b-cc06-4b77-ec5e-41253e471bdb"
      },
      "execution_count": 21,
      "outputs": [
        {
          "output_type": "stream",
          "name": "stdout",
          "text": [
            "[5, 7, 8, 200, 10, 20, 30]\n"
          ]
        }
      ]
    },
    {
      "cell_type": "code",
      "source": [
        "#Exercício 7:\n",
        "#Escreva um programa em Python que cria uma lista de números inteiros e inverte a ordem\n",
        "#dos elementos na lista.\n",
        "\n",
        "listaNumeros = [5, 7, 8, 10, 200, 20, 30]\n",
        "\n",
        "listaNumeros.reverse()\n",
        "\n",
        "print(listaNumeros)\n"
      ],
      "metadata": {
        "colab": {
          "base_uri": "https://localhost:8080/"
        },
        "id": "9P3jOegu-nXa",
        "outputId": "b55e06fc-2b7e-40c6-f910-468125d125a1"
      },
      "execution_count": 23,
      "outputs": [
        {
          "output_type": "stream",
          "name": "stdout",
          "text": [
            "[30, 20, 200, 10, 8, 7, 5]\n"
          ]
        }
      ]
    },
    {
      "cell_type": "code",
      "source": [
        "#Exercício 8:\n",
        "#Escreva uma função em Python chamada \"contar_ocorrencias\" que recebe uma lista e um\n",
        "#elemento como parâmetros e conta quantas vezes o elemento ocorre na lista.\n",
        "\n",
        "def contar_ocorrencias(lista, elemento):\n",
        "    return lista.count(elemento)\n",
        "\n",
        "lista = [500, 40, 22, 36, 36, 788, 96, 45, 36, 44, 40, 2]\n",
        "elemento = 36\n",
        "ocorrencias = contar_ocorrencias(lista, elemento)\n",
        "print(f'numero: {elemento} ocorreu {ocorrencias} vezes na lista')\n"
      ],
      "metadata": {
        "colab": {
          "base_uri": "https://localhost:8080/"
        },
        "id": "Sp4IXKK9Av5w",
        "outputId": "1895c212-7b68-4b36-c7a6-c0720b5c5315"
      },
      "execution_count": 37,
      "outputs": [
        {
          "output_type": "stream",
          "name": "stdout",
          "text": [
            "numero: 36 ocorreu 3 vezes na lista\n"
          ]
        }
      ]
    },
    {
      "cell_type": "code",
      "source": [
        "#Exercício 9:\n",
        "#Escreva um programa em Python que cria uma lista de nomes e remove todos os nomes\n",
        "#que começam com a letra \"A\"\n",
        "\n",
        "nomes = ['Everson','Amanda','Ana','Tatiana','Guilherme','Ariel']\n",
        "\n",
        "sem_A = list(filter(lambda nome: not nome.startswith(\"A\"), nomes))\n",
        "\n",
        "print(sem_A)"
      ],
      "metadata": {
        "colab": {
          "base_uri": "https://localhost:8080/"
        },
        "id": "dWxcLsKBB3ZJ",
        "outputId": "c42f3ea4-de5b-4868-fa54-09a5e8252f86"
      },
      "execution_count": 29,
      "outputs": [
        {
          "output_type": "stream",
          "name": "stdout",
          "text": [
            "['Everson', 'Tatiana', 'Guilherme']\n"
          ]
        }
      ]
    },
    {
      "cell_type": "code",
      "source": [
        "#Exercício 10:\n",
        "#Escreva um programa em Python que cria uma lista de números inteiros e encontra o\n",
        "#segundo menor número da lista.\n",
        "\n",
        "lista_numeros = [8, 90, 70, 55, 44, 20, 1, 4, 9, 800, 3]\n",
        "\n",
        "lista_numeros.sort()\n",
        "\n",
        "segundo_numero_menor = lista_numeros[1]\n",
        "\n",
        "print(\"Segundo menor numero é:\",segundo_numero_menor)"
      ],
      "metadata": {
        "colab": {
          "base_uri": "https://localhost:8080/"
        },
        "id": "FQHSTi58Cwu0",
        "outputId": "99cbe201-60e8-4eac-b21e-893cae223797"
      },
      "execution_count": 31,
      "outputs": [
        {
          "output_type": "stream",
          "name": "stdout",
          "text": [
            "Segundo menor numero é:  3\n"
          ]
        }
      ]
    }
  ]
}