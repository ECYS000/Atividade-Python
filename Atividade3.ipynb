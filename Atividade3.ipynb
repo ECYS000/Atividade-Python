{
  "nbformat": 4,
  "nbformat_minor": 0,
  "metadata": {
    "colab": {
      "provenance": [],
      "authorship_tag": "ABX9TyMh1Xa/xjGbaeZ8B/fqPn7N",
      "include_colab_link": true
    },
    "kernelspec": {
      "name": "python3",
      "display_name": "Python 3"
    },
    "language_info": {
      "name": "python"
    }
  },
  "cells": [
    {
      "cell_type": "markdown",
      "metadata": {
        "id": "view-in-github",
        "colab_type": "text"
      },
      "source": [
        "<a href=\"https://colab.research.google.com/github/ECYS000/Atividade-Python/blob/main/Atividade3.ipynb\" target=\"_parent\"><img src=\"https://colab.research.google.com/assets/colab-badge.svg\" alt=\"Open In Colab\"/></a>"
      ]
    },
    {
      "cell_type": "code",
      "execution_count": 17,
      "metadata": {
        "colab": {
          "base_uri": "https://localhost:8080/"
        },
        "id": "BqRJ8UfeXTBS",
        "outputId": "88c0e23d-f3d6-4d7c-95a5-0c853cabad68"
      },
      "outputs": [
        {
          "output_type": "stream",
          "name": "stdout",
          "text": [
            "[2, 4, 6, 8, 10]\n"
          ]
        }
      ],
      "source": [
        "# Exercício 1\n",
        "# Dobrar os elementos de uma lista:\n",
        "# Escreva uma função chamada dobrar_elementos(lista) que recebe uma lista de números\n",
        "# como entrada e retorna uma nova lista contendo todos os elementos da lista original dobrados.\n",
        "\n",
        "def dobrar_elementos(lista):\n",
        "    novo_lista = []\n",
        "    for elemento in lista:\n",
        "        novo_elemento = elemento * 2\n",
        "        novo_lista.append(novo_elemento)\n",
        "    return novo_lista\n",
        "\n",
        "lista = [1, 2, 3, 4, 5]\n",
        "resultado = dobrar_elementos(lista)\n",
        "print(resultado)"
      ]
    },
    {
      "cell_type": "code",
      "source": [
        "# Exercício 2\n",
        "# Conversão de temperaturas:\n",
        "# Escreva uma função chamada converter_fahrenheit_para_celsius(lista_fahrenheit) que\n",
        "# recebe uma lista de temperaturas em graus Fahrenheit como entrada e retorna uma nova\n",
        "# lista com as temperaturas convertidas para graus Celsius. A fórmula de conversão é:Celsius = (Fahrenheit - 32) * 5/9.\n",
        "\n",
        "def converter_fahrenheit_para_celsius(lista_fahrenheit):\n",
        "    lista_celsius = []\n",
        "    for temperatura in lista_fahrenheit:\n",
        "        celsius = (temperatura - 32) * 5/9\n",
        "        lista_celsius.append(int(celsius))\n",
        "    return lista_celsius\n",
        "\n",
        "lista_fahrenheit = [32, 68, 104, 212]\n",
        "resultado = converter_fahrenheit_para_celsius(lista_fahrenheit)\n",
        "print(resultado)"
      ],
      "metadata": {
        "colab": {
          "base_uri": "https://localhost:8080/"
        },
        "id": "u-BAbe0NYJZO",
        "outputId": "9fb82bd7-dec1-49e7-fcd0-32d0d94ed1a3"
      },
      "execution_count": null,
      "outputs": [
        {
          "output_type": "stream",
          "name": "stdout",
          "text": [
            "[0, 20, 40, 100]\n"
          ]
        }
      ]
    },
    {
      "cell_type": "code",
      "source": [
        "# Exercício 3\n",
        "# Cálculo do quadrado dos elementos de uma matriz:\n",
        "# Escreva uma função chamada calcular_quadrado_matriz(matriz) que recebe uma matriz\n",
        "# como entrada e retorna uma nova matriz contendo os quadrados de todos os elementos da matriz original.\n",
        "\n",
        "def calcular_quadrado_matriz(matriz):\n",
        "    novo_matriz = []\n",
        "    for linha in matriz:\n",
        "        novo_lista = []\n",
        "        for elemento in linha:\n",
        "            quadrado = elemento ** 2\n",
        "            novo_lista.append(quadrado)\n",
        "        novo_matriz.append(novo_lista)\n",
        "    return novo_matriz\n",
        "\n",
        "matriz = [\n",
        "    [1, 2, 3],\n",
        "    [4, 5, 6],\n",
        "    [7, 8, 9]\n",
        "]\n",
        "resultado = calcular_quadrado_matriz(matriz)\n",
        "print(resultado)"
      ],
      "metadata": {
        "colab": {
          "base_uri": "https://localhost:8080/"
        },
        "id": "TjHlDqIbYc5h",
        "outputId": "99d2aba7-7e5a-444c-8f7a-8dbcf290857d"
      },
      "execution_count": 16,
      "outputs": [
        {
          "output_type": "stream",
          "name": "stdout",
          "text": [
            "[[1, 4, 9], [16, 25, 36], [49, 64, 81]]\n"
          ]
        }
      ]
    },
    {
      "cell_type": "code",
      "source": [
        "# Exercício 4\n",
        "# Filtrar números pares:\n",
        "# Escreva uma função chamada filtrar_pares(lista) que recebe uma lista de números como\n",
        "# entrada e retorna uma nova lista contendo apenas os números pares da lista original.\n",
        "\n",
        "def filtrar_pares(lista):\n",
        "    lista_pares = []\n",
        "    for numero in lista:\n",
        "        if numero % 2 == 0:\n",
        "            lista_pares.append(numero)\n",
        "    return lista_pares\n",
        "\n",
        "lista = [1, 2, 3, 4, 5, 6, 7, 8, 9, 10]\n",
        "resultado = filtrar_pares(lista)\n",
        "print(resultado)\n"
      ],
      "metadata": {
        "colab": {
          "base_uri": "https://localhost:8080/"
        },
        "id": "MfKPuWZEY2tB",
        "outputId": "a447cf76-b923-4164-9d92-02fb9e97bb4b"
      },
      "execution_count": null,
      "outputs": [
        {
          "output_type": "stream",
          "name": "stdout",
          "text": [
            "[2, 4, 6, 8, 10]\n"
          ]
        }
      ]
    },
    {
      "cell_type": "code",
      "source": [
        "# Exercício 5\n",
        "# Filtrar palavras com comprimento específico:\n",
        "# Escreva uma função chamada filtrar_palavras(lista_palavras, comprimento) que recebe uma\n",
        "# lista de palavras e um comprimento como entrada e retorna uma nova lista contendo\n",
        "# apenas as palavras da lista original que possuem o comprimento especificado.\n",
        "\n",
        "def filtrar_palavras(lista_palavras, comprimento):\n",
        "    lista_filtrada = []\n",
        "    for palavra in lista_palavras:\n",
        "        if len(palavra) == comprimento:\n",
        "            lista_filtrada.append(palavra)\n",
        "    return lista_filtrada\n",
        "\n",
        "lista_palavras = [\"casa\", \"carro\", \"amigo\", \"computador\", \"gato\"]\n",
        "comprimento = 4\n",
        "resultado = filtrar_palavras(lista_palavras, comprimento)\n",
        "print(resultado)"
      ],
      "metadata": {
        "colab": {
          "base_uri": "https://localhost:8080/"
        },
        "id": "CEaOjeJPZA-B",
        "outputId": "08cb9373-1b36-448f-f974-608b334d9dab"
      },
      "execution_count": null,
      "outputs": [
        {
          "output_type": "stream",
          "name": "stdout",
          "text": [
            "['casa', 'gato']\n"
          ]
        }
      ]
    },
    {
      "cell_type": "code",
      "source": [
        "# Exercício 6\n",
        "# Filtrar números maiores que um valor específico:\n",
        "# Escreva uma função chamada filtrar_maiores(lista, valor) que recebe uma lista de números\n",
        "# e um valor como entrada, e retorna uma nova lista contendo apenas os números da lista\n",
        "# original que são maiores que o valor especificado.\n",
        "\n",
        "def filtrar_maiores(lista, valor):\n",
        "    lista_filtrada = []\n",
        "    for numero in lista:\n",
        "        if numero > valor:\n",
        "            lista_filtrada.append(numero)\n",
        "    return lista_filtrada\n",
        "\n",
        "lista = [10, 20, 30, 40, 50, 60, 70, 80, 90, 100]\n",
        "valor = 50\n",
        "resultado = filtrar_maiores(lista, valor)\n",
        "print(resultado)"
      ],
      "metadata": {
        "colab": {
          "base_uri": "https://localhost:8080/"
        },
        "id": "PylqcdhAZNMx",
        "outputId": "c26b8e66-22c2-422d-dcd7-b3204092183e"
      },
      "execution_count": null,
      "outputs": [
        {
          "output_type": "stream",
          "name": "stdout",
          "text": [
            "[60, 70, 80, 90, 100]\n"
          ]
        }
      ]
    },
    {
      "cell_type": "code",
      "source": [
        "# Exercício 7\n",
        "# para encontrar o maior elemento em uma lista:\n",
        "# Escreva uma função chamada encontrar_maior_elemento(lst) que recebe uma lista de\n",
        "# números como entrada e retorna o maior elemento presente na lista.\n",
        "\n",
        "def encontrar_maior_elemento(lst):\n",
        "    maior_elemento = lst[0]\n",
        "    for numero in lst:\n",
        "        if numero > maior_elemento:\n",
        "            maior_elemento = numero\n",
        "    return maior_elemento\n",
        "\n",
        "lst = [10, 5, 8, 12, 3]\n",
        "resultado = encontrar_maior_elemento(lst)\n",
        "print(resultado)\n"
      ],
      "metadata": {
        "colab": {
          "base_uri": "https://localhost:8080/"
        },
        "id": "fvLh95FMZYJU",
        "outputId": "49e0bb0e-6bce-4dbe-979d-cbf78172b724"
      },
      "execution_count": null,
      "outputs": [
        {
          "output_type": "stream",
          "name": "stdout",
          "text": [
            "12\n"
          ]
        }
      ]
    },
    {
      "cell_type": "code",
      "source": [
        "# Exercício 8\n",
        "# Para encontrar a string com o maior comprimento em uma lista:\n",
        "# Escreva uma função chamada encontrar_maior_string(lst) que recebe uma lista de strings\n",
        "# como entrada e retorna a string com o maior comprimento.\n",
        "\n",
        "def encontrar_maior_string(lst):\n",
        "    maior_string = lst[0]\n",
        "    for palavra in lst:\n",
        "        if len(palavra) > len(maior_string):\n",
        "            maior_string = palavra\n",
        "    return maior_string\n",
        "\n",
        "lst = [\"maçã\", \"banana\", \"kiwi\", \"morango\"]\n",
        "resultado = encontrar_maior_string(lst)\n",
        "print(resultado)"
      ],
      "metadata": {
        "colab": {
          "base_uri": "https://localhost:8080/"
        },
        "id": "GvN8CAldZowP",
        "outputId": "bc9687ba-9820-4791-f07b-4a4575a415aa"
      },
      "execution_count": null,
      "outputs": [
        {
          "output_type": "stream",
          "name": "stdout",
          "text": [
            "morango\n"
          ]
        }
      ]
    },
    {
      "cell_type": "code",
      "source": [
        "# Exercício 9\n",
        "# para encontrar a chave com o maior valor em um dicionário:\n",
        "# Escreva uma função chamada encontrar_maior_valor(dicionario) que recebe um dicionário\n",
        "# como entrada, onde as chaves são strings e os valores são números, e retorna a chave com o maior valor.\n",
        "\n",
        "\n",
        "\n",
        "# nao sei como fazer isso\n"
      ],
      "metadata": {
        "id": "BfbflaPoZwiU"
      },
      "execution_count": null,
      "outputs": []
    },
    {
      "cell_type": "code",
      "source": [
        "#Exercício 10\n",
        "#Filtrar números pares:\n",
        "#Escreva uma função chamada filtrar_pares(lista) que recebe uma lista de números como\n",
        "#entrada e retorna uma nova lista contendo apenas os números pares da lista original. Utilize uma função lambda para realizar a filtragem.\n",
        "\n",
        "def filtrar_pares(lista):\n",
        "    lista_pares = list(filter(lambda x: x % 2 == 0, lista))\n",
        "    return lista_pares\n",
        "\n",
        "lista = [1, 2, 3, 4, 5, 6, 7, 8, 9, 10]\n",
        "resultado = filtrar_pares(lista)\n",
        "print(resultado)\n"
      ],
      "metadata": {
        "colab": {
          "base_uri": "https://localhost:8080/"
        },
        "id": "3GMB__rLaGAF",
        "outputId": "ac344cda-110a-4712-aed3-08ea698fa6b5"
      },
      "execution_count": null,
      "outputs": [
        {
          "output_type": "stream",
          "name": "stdout",
          "text": [
            "[2, 4, 6, 8, 10]\n"
          ]
        }
      ]
    }
  ]
}