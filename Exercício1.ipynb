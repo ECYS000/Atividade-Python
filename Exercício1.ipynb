{
  "nbformat": 4,
  "nbformat_minor": 0,
  "metadata": {
    "colab": {
      "provenance": [],
      "authorship_tag": "ABX9TyOXXxqqCMnWxkiirTVR0B8v",
      "include_colab_link": true
    },
    "kernelspec": {
      "name": "python3",
      "display_name": "Python 3"
    },
    "language_info": {
      "name": "python"
    }
  },
  "cells": [
    {
      "cell_type": "markdown",
      "metadata": {
        "id": "view-in-github",
        "colab_type": "text"
      },
      "source": [
        "<a href=\"https://colab.research.google.com/github/ECYS000/Atividade-Python/blob/main/Exerc%C3%ADcio1.ipynb\" target=\"_parent\"><img src=\"https://colab.research.google.com/assets/colab-badge.svg\" alt=\"Open In Colab\"/></a>"
      ]
    },
    {
      "cell_type": "code",
      "execution_count": null,
      "metadata": {
        "colab": {
          "base_uri": "https://localhost:8080/"
        },
        "id": "DFe0pUvseWNU",
        "outputId": "b81bba8a-6460-4944-a98b-5b0c163782e9"
      },
      "outputs": [
        {
          "output_type": "stream",
          "name": "stdout",
          "text": [
            "Digite um numero: 9\n",
            "Digite outro numero para somar: 45\n",
            "Somar que você digitou: 9 + 45, entao resultado é 54\n",
            "\n",
            "Digite a operação que vc quer calcular (+, -, * ou /): *\n",
            "Digite um numero: 38\n",
            "Digite outro numero: 4\n",
            "Resultado em 38 * 4: 152\n"
          ]
        }
      ],
      "source": [
        "#Exercício 1:\n",
        "\n",
        "#Escreva um programa em Python que solicite ao usuário que digite dois números e\n",
        "#exiba a soma deles.\n",
        "\n",
        "num1 = int(input(\"Digite um numero: \"))\n",
        "num2 = int(input(\"Digite outro numero para somar: \"))\n",
        "print (f'Somar que você digitou: {num1} + {num2}, entao resultado é {num1+num2}')\n",
        "print()\n",
        "\n",
        "#Teste Calculadora\n",
        "\n",
        "operacao = input(\"Digite a operação que vc quer calcular (+, -, * ou /): \")\n",
        "num1 = int(input(\"Digite um numero: \"))\n",
        "num2 = int(input(\"Digite outro numero: \"))\n",
        "\n",
        "def calculadora():\n",
        "  if operacao == \"+\":\n",
        "    resultado = num1 + num2\n",
        "  elif operacao == \"-\":\n",
        "    resultado = num1 - num2\n",
        "  elif operacao == \"*\":\n",
        "    resultado = num1 * num2\n",
        "  elif operacao == \"/\":\n",
        "    resultado = num1 / num2\n",
        "  else:\n",
        "    print(\"Operação inválida\")\n",
        "    return\n",
        "\n",
        "  print(f'Resultado em {num1} {operacao} {num2}: {resultado}')\n",
        "calculadora()\n",
        "\n",
        "#eu já fiz isso Javascprit e Java entao lembrei isso e tentei adaptar para Python e parece deu certo!\n",
        "\n",
        "\n"
      ]
    },
    {
      "cell_type": "code",
      "source": [
        "#Exercício 2:\n",
        "\n",
        "#Escreva um programa em Python que solicite ao usuário que digite um número e\n",
        "#exiba se ele é par ou ímpar.\n",
        "\n",
        "num1 = int(input(\"Digite um numero: \"))\n",
        "if (num1%2) == 0:\n",
        "  print(\"Número que vc digitou é par\")\n",
        "else:\n",
        "  print(\"Numero que vc digitou é impar\")"
      ],
      "metadata": {
        "colab": {
          "base_uri": "https://localhost:8080/"
        },
        "id": "E5xmsFbBtV6P",
        "outputId": "63729c02-9acb-4143-ce6f-0c770b6f6272"
      },
      "execution_count": null,
      "outputs": [
        {
          "output_type": "stream",
          "name": "stdout",
          "text": [
            "Digite um numero: 125\n",
            "Numero que vc digitou é impar\n"
          ]
        }
      ]
    },
    {
      "cell_type": "code",
      "source": [
        "#Exercício 3:\n",
        "\n",
        "#Escreva um programa em Python que solicite ao usuário que digite uma temperatura\n",
        "#em graus Celsius e converta-a para Fahrenheit. A fórmula de conversão é:\n",
        "#Fahrenheit = Celsius * 9/5 + 32.\n",
        "\n",
        "temperatura = int(input(\"Digite temperatura em graus Celsius ºC que você quer converter para Fahrenheit ºF \"))\n",
        "\n",
        "Fahrenheint = temperatura * 9/5 + 32\n",
        "\n",
        "print(f'Conversão que você digitou temperatura em Celsius: {temperatura}ºC conversao para temperatura Fahrenheit é: {Fahrenheint}ºF' )\n",
        "\n"
      ],
      "metadata": {
        "colab": {
          "base_uri": "https://localhost:8080/"
        },
        "id": "oYkRtfZL1qFK",
        "outputId": "62161369-7003-4c93-c2e4-09fcc4a156ef"
      },
      "execution_count": null,
      "outputs": [
        {
          "output_type": "stream",
          "name": "stdout",
          "text": [
            "Digite temperatura em graus Celsius ºC que você quer converter para Fahrenheit ºF 32\n",
            "Conversão que você digitou temperatura em Celsius: 32ºC conversao para temperatura Fahrenheit é: 89.6ºF\n"
          ]
        }
      ]
    },
    {
      "cell_type": "code",
      "source": [
        "#Exercício 4:\n",
        "\n",
        "#Escreva um programa em Python que solicite ao usuário que digite uma palavra e\n",
        "#exiba quantas letras essa palavra contém.\n",
        "\n",
        "palavra = input(\"digite qualquer um palavra, vamos descobrir quantos letras essa palavra possuir: \")\n",
        "quantidadeLetras = len(palavra)\n",
        "print (f'A palavra que você digitou: {palavra}, possuir {quantidadeLetras} letras ')\n",
        "\n"
      ],
      "metadata": {
        "id": "Nx1y3AUS8kBV",
        "colab": {
          "base_uri": "https://localhost:8080/"
        },
        "outputId": "2f01415d-12f3-4dff-d7e7-fcbe7a0b1896"
      },
      "execution_count": null,
      "outputs": [
        {
          "output_type": "stream",
          "name": "stdout",
          "text": [
            "digite qualquer um palavra, vamos descobrir quantos letras essa palavra possuir: Everson\n",
            "A palavra que você digitou: Everson, possuir 7 letras \n"
          ]
        }
      ]
    },
    {
      "cell_type": "code",
      "source": [
        "#Exercício 5:\n",
        "\n",
        "#Escreva um programa em Python que exiba os números de 1 a 10 usando um loop.\n",
        "\n",
        "for num in range(1, 11):\n",
        "  print(num)"
      ],
      "metadata": {
        "colab": {
          "base_uri": "https://localhost:8080/"
        },
        "id": "sWqLVqBr9Lqf",
        "outputId": "0e298248-a692-47a2-d434-9c350bb19a46"
      },
      "execution_count": null,
      "outputs": [
        {
          "output_type": "stream",
          "name": "stdout",
          "text": [
            "1\n",
            "2\n",
            "3\n",
            "4\n",
            "5\n",
            "6\n",
            "7\n",
            "8\n",
            "9\n",
            "10\n"
          ]
        }
      ]
    },
    {
      "cell_type": "code",
      "source": [
        "#Exercício 6:\n",
        "\n",
        "#Escreva uma função em Python chamada \"verificar_primo\" que recebe um número\n",
        "#como parâmetro e retorna True se o número for primo e False caso contrário.\n",
        "\n",
        "num = int(input(\"Digite um numero para saber se é numero primo ou não: \"))\n",
        "def verificar_primo(num):\n",
        "    if num < 2:\n",
        "        return False\n",
        "\n",
        "    for i in range(2, int(num**0.5) + 1):\n",
        "        if num % i == 0:\n",
        "            return False\n",
        "    return True\n",
        "\n",
        "print(verificar_primo(num))\n",
        "print()\n",
        "\n",
        "#Tentei converter true ou false para descrição:\n",
        "\n",
        "if verificar_primo(num) == True:\n",
        "  print(\"Numero que vc digitou é um numero de primo\")\n",
        "else:\n",
        "  print(\"Numero que vc digitou não é um numero de primo\")\n",
        "\n",
        "#adicionei esse codigo, pois achei estranho exibir resultado seja False ou True, por isso decidi adicionar mais um para esse exercício"
      ],
      "metadata": {
        "colab": {
          "base_uri": "https://localhost:8080/"
        },
        "id": "HTUP3IZ_qnUm",
        "outputId": "f568653f-c731-4def-809d-69cb724e1df7"
      },
      "execution_count": null,
      "outputs": [
        {
          "output_type": "stream",
          "name": "stdout",
          "text": [
            "Digite um numero para saber se é numero primo ou não: 8\n",
            "False\n",
            "\n",
            "Numero que vc digitou não é um numero de primo\n"
          ]
        }
      ]
    },
    {
      "cell_type": "code",
      "source": [
        "#Exercício 7:\n",
        "\n",
        "#Escreva um programa em Python que solicite ao usuário que digite uma frase e\n",
        "#conte quantas vogais (a, e, i, o, u) e consoantes existem nessa frase.\n",
        "\n",
        "#Não consigo fazer isso, pois nao entendi como fazer\n",
        "\n"
      ],
      "metadata": {
        "id": "KxA2ekZvsaeq"
      },
      "execution_count": null,
      "outputs": []
    },
    {
      "cell_type": "code",
      "source": [
        "#Exercício 8:\n",
        "\n",
        "#Escreva um programa em Python que exiba os números de 1 a 100. Para múltiplos\n",
        "#de 3, exiba \"Fizz\" em vez do número, e para múltiplos de 5, exiba \"Buzz\". Para\n",
        "#números que são múltiplos de ambos 3 e 5, exiba \"FizzBuzz\".\n",
        "\n",
        "#Não sei como fazer esse exercício\n",
        "\n"
      ],
      "metadata": {
        "id": "R7T_Q3krspu0"
      },
      "execution_count": null,
      "outputs": []
    },
    {
      "cell_type": "code",
      "source": [
        "#Exercício 9:\n",
        "\n",
        "#Escreva um programa em Python que solicite ao usuário que digite um número\n",
        "#inteiro e calcule e exiba o seu fatorial.\n",
        "\n",
        "#Não entendi que é fatorial...\n",
        "\n"
      ],
      "metadata": {
        "id": "eXWaG-lXsq35"
      },
      "execution_count": null,
      "outputs": []
    },
    {
      "cell_type": "code",
      "source": [
        "#Exercício 10:\n",
        "\n",
        "#Escreva uma função em Python chamada \"inverter_string\" que recebe uma string\n",
        "#como parâmetro e retorna a mesma string invertida.\n",
        "\n",
        "nome = input(\"escreva um nome: \")\n",
        "\n",
        "def inverter_string(nome):\n",
        "    return nome[::-1]\n",
        "\n",
        "print(inverter_string(nome))\n",
        "\n",
        "#nao sabia [::-1] faz inverter que legal, acabei pesquisar isso no google\n"
      ],
      "metadata": {
        "colab": {
          "base_uri": "https://localhost:8080/"
        },
        "id": "48FFo8p_sr8J",
        "outputId": "586beefb-f4b6-4df6-e283-c3fd14bd5544"
      },
      "execution_count": null,
      "outputs": [
        {
          "output_type": "stream",
          "name": "stdout",
          "text": [
            "escreva um nome: Everson\n",
            "nosrevE\n"
          ]
        }
      ]
    }
  ]
}